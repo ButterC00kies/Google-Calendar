{
 "cells": [
  {
   "cell_type": "markdown",
   "id": "04a0a121",
   "metadata": {},
   "source": [
    "# Installation"
   ]
  },
  {
   "cell_type": "code",
   "execution_count": 8,
   "id": "51cf14ef",
   "metadata": {},
   "outputs": [],
   "source": [
    "#!pip install google-api-python-client"
   ]
  },
  {
   "cell_type": "code",
   "execution_count": 9,
   "id": "028a5c4f",
   "metadata": {},
   "outputs": [],
   "source": [
    "#!pip install google-auth-oauthlib"
   ]
  },
  {
   "cell_type": "markdown",
   "id": "be8d326b",
   "metadata": {},
   "source": [
    "# OAuth 2.0 Setup"
   ]
  },
  {
   "cell_type": "code",
   "execution_count": 5,
   "id": "fe7fda48",
   "metadata": {},
   "outputs": [],
   "source": [
    "from apiclient.discovery import build\n",
    "from google_auth_oauthlib.flow import InstalledAppFlow"
   ]
  },
  {
   "cell_type": "code",
   "execution_count": 6,
   "id": "33a107e6",
   "metadata": {},
   "outputs": [],
   "source": [
    "SCOPES = ['https://www.googleapis.com/auth/calendar.readonly',\n",
    "         'https://www.googleapis.com/auth/calendar',\n",
    "          'https://www.googleapis.com/auth/calendar.events.readonly',\n",
    "          'https://www.googleapis.com/auth/calendar.events'   \n",
    "         ]"
   ]
  },
  {
   "cell_type": "code",
   "execution_count": 7,
   "id": "0431a395",
   "metadata": {},
   "outputs": [],
   "source": [
    "flow = InstalledAppFlow.from_client_secrets_file(\"client_secret_new.json\", scopes = SCOPES)"
   ]
  },
  {
   "cell_type": "code",
   "execution_count": 8,
   "id": "5cf9ef4c",
   "metadata": {},
   "outputs": [
    {
     "name": "stdout",
     "output_type": "stream",
     "text": [
      "Please visit this URL to authorize this application: https://accounts.google.com/o/oauth2/auth?response_type=code&client_id=56526744175-aga46rs65gpt1e0nkn76qcpdhm74qve8.apps.googleusercontent.com&redirect_uri=urn%3Aietf%3Awg%3Aoauth%3A2.0%3Aoob&scope=https%3A%2F%2Fwww.googleapis.com%2Fauth%2Fcalendar.readonly+https%3A%2F%2Fwww.googleapis.com%2Fauth%2Fcalendar+https%3A%2F%2Fwww.googleapis.com%2Fauth%2Fcalendar.events.readonly+https%3A%2F%2Fwww.googleapis.com%2Fauth%2Fcalendar.events&state=vtiYymYwVlI4KPs4w5KaJzmekvRUN3&prompt=consent&access_type=offline\n",
      "Enter the authorization code: 4/1ARtbsJp2dbbQ-62bZM_-IZe6bsX4ogJvoGiypxParifHW8FwrgQp4Z7z07E\n"
     ]
    }
   ],
   "source": [
    "credentials = flow.run_console()"
   ]
  },
  {
   "cell_type": "code",
   "execution_count": 9,
   "id": "8dffcae1",
   "metadata": {},
   "outputs": [
    {
     "data": {
      "text/plain": [
       "<google.oauth2.credentials.Credentials at 0x232e7707a60>"
      ]
     },
     "execution_count": 9,
     "metadata": {},
     "output_type": "execute_result"
    }
   ],
   "source": [
    "credentials"
   ]
  },
  {
   "cell_type": "code",
   "execution_count": 10,
   "id": "60552382",
   "metadata": {},
   "outputs": [],
   "source": [
    "import pickle "
   ]
  },
  {
   "cell_type": "code",
   "execution_count": 11,
   "id": "bbc33e82",
   "metadata": {},
   "outputs": [],
   "source": [
    "pickle.dump(credentials, open('token.pkl', \"wb\"))"
   ]
  },
  {
   "cell_type": "code",
   "execution_count": 12,
   "id": "7ca63f97",
   "metadata": {},
   "outputs": [
    {
     "name": "stdout",
     "output_type": "stream",
     "text": [
      "<google.oauth2.credentials.Credentials object at 0x00000232E7707A60>\n"
     ]
    }
   ],
   "source": [
    "print(credentials)"
   ]
  },
  {
   "cell_type": "code",
   "execution_count": 13,
   "id": "611ae11e",
   "metadata": {},
   "outputs": [],
   "source": [
    "credentials1 = pickle.load(open('token.pkl','rb')) "
   ]
  },
  {
   "cell_type": "code",
   "execution_count": 14,
   "id": "91c7144e",
   "metadata": {},
   "outputs": [
    {
     "data": {
      "text/plain": [
       "<google.oauth2.credentials.Credentials at 0x232e523fb80>"
      ]
     },
     "execution_count": 14,
     "metadata": {},
     "output_type": "execute_result"
    }
   ],
   "source": [
    "credentials1"
   ]
  },
  {
   "cell_type": "code",
   "execution_count": 15,
   "id": "1b2ea16f",
   "metadata": {},
   "outputs": [],
   "source": [
    "service = build('calendar','v3', credentials = credentials1)"
   ]
  },
  {
   "cell_type": "markdown",
   "id": "d6569017",
   "metadata": {},
   "source": [
    "# Get My Calendars"
   ]
  },
  {
   "cell_type": "code",
   "execution_count": 16,
   "id": "11b5ade0",
   "metadata": {},
   "outputs": [],
   "source": [
    "result = service.calendarList().list().execute()"
   ]
  },
  {
   "cell_type": "code",
   "execution_count": 20,
   "id": "b83033d5",
   "metadata": {},
   "outputs": [
    {
     "data": {
      "text/plain": [
       "{'kind': 'calendar#calendarList',\n",
       " 'etag': '\"p33ka7270krmvk0g\"',\n",
       " 'nextSyncToken': 'COijiOCm7foCEhVhamF5a2VzaGkwN0BnbWFpbC5jb20=',\n",
       " 'items': [{'kind': 'calendar#calendarListEntry',\n",
       "   'etag': '\"1518621220260000\"',\n",
       "   'id': 'en.indian#holiday@group.v.calendar.google.com',\n",
       "   'summary': 'Holidays in India',\n",
       "   'description': 'Holidays and Observances in India',\n",
       "   'timeZone': 'Asia/Kolkata',\n",
       "   'colorId': '8',\n",
       "   'backgroundColor': '#16a765',\n",
       "   'foregroundColor': '#000000',\n",
       "   'selected': True,\n",
       "   'accessRole': 'reader',\n",
       "   'defaultReminders': [],\n",
       "   'conferenceProperties': {'allowedConferenceSolutionTypes': ['hangoutsMeet']}},\n",
       "  {'kind': 'calendar#calendarListEntry',\n",
       "   'etag': '\"1565865214725000\"',\n",
       "   'id': 'addressbook#contacts@group.v.calendar.google.com',\n",
       "   'summary': 'Birthdays',\n",
       "   'description': 'Displays birthdays, anniversaries, and other event dates of people in Google Contacts.',\n",
       "   'timeZone': 'Asia/Kolkata',\n",
       "   'summaryOverride': 'Contacts',\n",
       "   'colorId': '13',\n",
       "   'backgroundColor': '#92e1c0',\n",
       "   'foregroundColor': '#000000',\n",
       "   'selected': True,\n",
       "   'accessRole': 'reader',\n",
       "   'defaultReminders': [],\n",
       "   'conferenceProperties': {'allowedConferenceSolutionTypes': ['hangoutsMeet']}},\n",
       "  {'kind': 'calendar#calendarListEntry',\n",
       "   'etag': '\"1665072066985000\"',\n",
       "   'id': 'ajaykeshi07@gmail.com',\n",
       "   'summary': 'ajaykeshi07@gmail.com',\n",
       "   'timeZone': 'Asia/Kolkata',\n",
       "   'colorId': '14',\n",
       "   'backgroundColor': '#9fe1e7',\n",
       "   'foregroundColor': '#000000',\n",
       "   'selected': True,\n",
       "   'accessRole': 'owner',\n",
       "   'defaultReminders': [{'method': 'popup', 'minutes': 30}],\n",
       "   'notificationSettings': {'notifications': [{'type': 'eventCreation',\n",
       "      'method': 'email'},\n",
       "     {'type': 'eventChange', 'method': 'email'},\n",
       "     {'type': 'eventCancellation', 'method': 'email'},\n",
       "     {'type': 'eventResponse', 'method': 'email'}]},\n",
       "   'primary': True,\n",
       "   'conferenceProperties': {'allowedConferenceSolutionTypes': ['hangoutsMeet']}}]}"
      ]
     },
     "execution_count": 20,
     "metadata": {},
     "output_type": "execute_result"
    }
   ],
   "source": [
    "result"
   ]
  },
  {
   "cell_type": "code",
   "execution_count": 27,
   "id": "1d73bec4",
   "metadata": {},
   "outputs": [
    {
     "data": {
      "text/plain": [
       "[{'kind': 'calendar#calendarListEntry',\n",
       "  'etag': '\"1518621220260000\"',\n",
       "  'id': 'en.indian#holiday@group.v.calendar.google.com',\n",
       "  'summary': 'Holidays in India',\n",
       "  'description': 'Holidays and Observances in India',\n",
       "  'timeZone': 'Asia/Kolkata',\n",
       "  'colorId': '8',\n",
       "  'backgroundColor': '#16a765',\n",
       "  'foregroundColor': '#000000',\n",
       "  'selected': True,\n",
       "  'accessRole': 'reader',\n",
       "  'defaultReminders': [],\n",
       "  'conferenceProperties': {'allowedConferenceSolutionTypes': ['hangoutsMeet']}},\n",
       " {'kind': 'calendar#calendarListEntry',\n",
       "  'etag': '\"1565865214725000\"',\n",
       "  'id': 'addressbook#contacts@group.v.calendar.google.com',\n",
       "  'summary': 'Birthdays',\n",
       "  'description': 'Displays birthdays, anniversaries, and other event dates of people in Google Contacts.',\n",
       "  'timeZone': 'Asia/Kolkata',\n",
       "  'summaryOverride': 'Contacts',\n",
       "  'colorId': '13',\n",
       "  'backgroundColor': '#92e1c0',\n",
       "  'foregroundColor': '#000000',\n",
       "  'selected': True,\n",
       "  'accessRole': 'reader',\n",
       "  'defaultReminders': [],\n",
       "  'conferenceProperties': {'allowedConferenceSolutionTypes': ['hangoutsMeet']}},\n",
       " {'kind': 'calendar#calendarListEntry',\n",
       "  'etag': '\"1665072066985000\"',\n",
       "  'id': 'ajaykeshi07@gmail.com',\n",
       "  'summary': 'ajaykeshi07@gmail.com',\n",
       "  'timeZone': 'Asia/Kolkata',\n",
       "  'colorId': '14',\n",
       "  'backgroundColor': '#9fe1e7',\n",
       "  'foregroundColor': '#000000',\n",
       "  'selected': True,\n",
       "  'accessRole': 'owner',\n",
       "  'defaultReminders': [{'method': 'popup', 'minutes': 30}],\n",
       "  'notificationSettings': {'notifications': [{'type': 'eventCreation',\n",
       "     'method': 'email'},\n",
       "    {'type': 'eventChange', 'method': 'email'},\n",
       "    {'type': 'eventCancellation', 'method': 'email'},\n",
       "    {'type': 'eventResponse', 'method': 'email'}]},\n",
       "  'primary': True,\n",
       "  'conferenceProperties': {'allowedConferenceSolutionTypes': ['hangoutsMeet']}}]"
      ]
     },
     "execution_count": 27,
     "metadata": {},
     "output_type": "execute_result"
    }
   ],
   "source": [
    "result['items']"
   ]
  },
  {
   "cell_type": "markdown",
   "id": "8d30be32",
   "metadata": {},
   "source": [
    "# Get My Calendar Events"
   ]
  },
  {
   "cell_type": "code",
   "execution_count": 28,
   "id": "b2e84fa4",
   "metadata": {},
   "outputs": [],
   "source": [
    "calendar_id = result['items'][2]['id']"
   ]
  },
  {
   "cell_type": "code",
   "execution_count": 29,
   "id": "6a7a9365",
   "metadata": {},
   "outputs": [],
   "source": [
    "result = service.events().list(calendarId = calendar_id,timeZone='Asia/Kolkata').execute()"
   ]
  },
  {
   "cell_type": "code",
   "execution_count": 18,
   "id": "2f282af4",
   "metadata": {},
   "outputs": [
    {
     "data": {
      "text/plain": [
       "{'kind': 'calendar#event',\n",
       " 'etag': '\"3332434384352000\"',\n",
       " 'id': '019v8f6puon5cfph610k7teevm',\n",
       " 'status': 'confirmed',\n",
       " 'htmlLink': 'https://www.google.com/calendar/event?eid=MDE5djhmNnB1b241Y2ZwaDYxMGs3dGVldm0gYWpheWtlc2hpMDdAbQ&ctz=Asia/Kolkata',\n",
       " 'created': '2022-10-19T22:06:32.000Z',\n",
       " 'updated': '2022-10-19T22:06:32.176Z',\n",
       " 'summary': 'Morning-Walk',\n",
       " 'creator': {'email': 'ajaykeshi07@gmail.com', 'self': True},\n",
       " 'organizer': {'email': 'ajaykeshi07@gmail.com', 'self': True},\n",
       " 'start': {'dateTime': '2022-10-20T07:00:00+05:30',\n",
       "  'timeZone': 'Asia/Kolkata'},\n",
       " 'end': {'dateTime': '2022-10-20T08:00:00+05:30', 'timeZone': 'Asia/Kolkata'},\n",
       " 'iCalUID': '019v8f6puon5cfph610k7teevm@google.com',\n",
       " 'sequence': 0,\n",
       " 'reminders': {'useDefault': True},\n",
       " 'eventType': 'default'}"
      ]
     },
     "execution_count": 18,
     "metadata": {},
     "output_type": "execute_result"
    }
   ],
   "source": [
    "result['items'][12]"
   ]
  }
 ],
 "metadata": {
  "kernelspec": {
   "display_name": "Python 3 (ipykernel)",
   "language": "python",
   "name": "python3"
  },
  "language_info": {
   "codemirror_mode": {
    "name": "ipython",
    "version": 3
   },
   "file_extension": ".py",
   "mimetype": "text/x-python",
   "name": "python",
   "nbconvert_exporter": "python",
   "pygments_lexer": "ipython3",
   "version": "3.8.13"
  }
 },
 "nbformat": 4,
 "nbformat_minor": 5
}
